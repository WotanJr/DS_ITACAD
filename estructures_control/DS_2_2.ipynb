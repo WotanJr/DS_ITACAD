{
 "cells": [
  {
   "cell_type": "markdown",
   "id": "751400aa",
   "metadata": {},
   "source": [
    "# Tasca 2\n",
    "## Exercici 1\n",
    "L'exercici consisteix a crear un programa que et classifiqui una variable numèrica en funció de l’escala Suspès/Aprovat/Notable/Excel·lent.\n",
    "\n",
    "Recorda que Suspès < 5, Aprovat > 5 i < 7, Notable > 7 i < 9 i Excel·lent > 9."
   ]
  },
  {
   "cell_type": "code",
   "execution_count": 1,
   "id": "f6e735af",
   "metadata": {},
   "outputs": [
    {
     "name": "stdout",
     "output_type": "stream",
     "text": [
      "Aprovat\n"
     ]
    }
   ],
   "source": [
    "def avaluar(n):\n",
    "    if n < 5:\n",
    "        return(\"Suspès\")\n",
    "    elif n >= 5 and n < 7:\n",
    "        return(\"Aprovat\")\n",
    "    elif n >= 7 and n < 9:\n",
    "        return(\"Notable\")\n",
    "    elif n >= 9:\n",
    "        return(\"Excel·lent\")\n",
    "nota = 5\n",
    "print(avaluar(nota))"
   ]
  },
  {
   "cell_type": "markdown",
   "id": "9ded9210",
   "metadata": {},
   "source": [
    "## Exercici 2\n",
    "Utilitzant el següent tutorial crea un programa que et pregunti dos números. T’ha de mostrar un missatge dient si el primer és més gran, el segon és més gran o són iguals.\n",
    "\n",
    "[Programiz: Python Input, Output and Import](https://www.programiz.com/python-programming/input-output-import)"
   ]
  },
  {
   "cell_type": "code",
   "execution_count": 2,
   "id": "b1752ed3",
   "metadata": {},
   "outputs": [
    {
     "name": "stdout",
     "output_type": "stream",
     "text": [
      "Insereix el primer nombre: 89\n",
      "Insereix el segon nombre: 89\n",
      "Són iguals\n"
     ]
    }
   ],
   "source": [
    "n1 = int(input(\"Insereix el primer nombre: \"))\n",
    "n2 = int(input(\"Insereix el segon nombre: \"))\n",
    "\n",
    "def comparar(num1, num2):\n",
    "    if num1 > num2:\n",
    "        print(\"El primer nombre és més gran\")\n",
    "    elif num1 < num2:\n",
    "        print(\"El segon nombre és més gran\")\n",
    "    else:\n",
    "        print(\"Són iguals\")\n",
    "\n",
    "comparar(n1, n2)"
   ]
  },
  {
   "cell_type": "markdown",
   "id": "27ff37d8",
   "metadata": {},
   "source": [
    "## Exercici 3\n",
    "Crea un programa que et pregunti el teu nom, i et demani un número. Si el número és 0, hauria de mostrar un missatge d’error. En cas contrari, hauria de mostrar el nom repetit tants cops com indiqui el número. Per exemple, “Joan Joan Joan”."
   ]
  },
  {
   "cell_type": "code",
   "execution_count": 3,
   "id": "d7c3850b",
   "metadata": {},
   "outputs": [
    {
     "name": "stdout",
     "output_type": "stream",
     "text": [
      "Insereix un nom: pep\n",
      "Insereix un nombre: 6\n",
      "pep pep pep pep pep pep \n"
     ]
    }
   ],
   "source": [
    "nom = input(\"Insereix un nom: \")\n",
    "numero = int(input(\"Insereix un nombre: \"))\n",
    "\n",
    "def rep_noms(nom, numero):\n",
    "    if numero == 0:\n",
    "        raise ValueError(\"Error, el nombre no pot ser zero\")\n",
    "    else:\n",
    "        print((nom + \" \") * abs(numero))\n",
    "\n",
    "rep_noms(nom, numero)"
   ]
  },
  {
   "cell_type": "markdown",
   "id": "4ed49616",
   "metadata": {},
   "source": [
    "\n",
    "## Exercici 4\n",
    "Crea un programa que donada una llista qualsevol, et digui si és simètrica o no. Si ho és, que et digui quants elements té.\n"
   ]
  },
  {
   "cell_type": "code",
   "execution_count": 4,
   "id": "990c7e11",
   "metadata": {},
   "outputs": [
    {
     "name": "stdout",
     "output_type": "stream",
     "text": [
      "Llista asimètrica\n",
      "llista simètrica amb 11 elements\n",
      "llista simètrica amb 10 elements\n"
     ]
    }
   ],
   "source": [
    "nombres = [6, 3, 35, 68, 4, 3, 18, 77, 77, 4, 4, 89]\n",
    "nombres_sim = [1, 2, 3, 4, 5, 6, 5, 4, 3, 2, 1]\n",
    "nombres_sim2 = [1, 2, 3, 4, 5, 5, 4, 3, 2, 1]\n",
    "\n",
    "def es_simetric(llista):\n",
    "    i = 0\n",
    "    while i < (len(llista)//2):\n",
    "        if llista[i] != llista[(-i-1)]:\n",
    "            return(\"Llista asimètrica\")\n",
    "            break\n",
    "        i = i + 1\n",
    "    return(\"llista simètrica amb \" + str(len(llista)) + \" elements\")\n",
    "\n",
    "print(es_simetric(nombres))\n",
    "print(es_simetric(nombres_sim))\n",
    "print(es_simetric(nombres_sim2))"
   ]
  },
  {
   "cell_type": "markdown",
   "id": "50b17d7d",
   "metadata": {},
   "source": [
    "## Exercici 5\n",
    "Crea un programa que donada una llista, et digui quants números coincideixen amb la seva posició. Per exemple [3,4,2,0,2,3,6] el 2 i el 6 coincideixen."
   ]
  },
  {
   "cell_type": "code",
   "execution_count": 5,
   "id": "85892a90",
   "metadata": {},
   "outputs": [
    {
     "name": "stdout",
     "output_type": "stream",
     "text": [
      "1\n",
      "0\n",
      "1\n",
      "2\n"
     ]
    }
   ],
   "source": [
    "nombres = [6, 3, 35, 68, 4, 3, 18, 77, 77, 4, 4, 89]    # coincideix el primer 4\n",
    "nombres_sim = [1, 2, 3, 4, 5, 6, 5, 4, 3, 2, 1]     # no coincideix cap\n",
    "nombres_sim2 = [1, 2, 3, 4, 5, 5, 4, 3, 2, 1]     # coincideix el segon 5\n",
    "llista1 = [3,4,2,0,2,3,6]\n",
    "\n",
    "def coincidencies(llista):\n",
    "    count = 0\n",
    "    i = 0\n",
    "    while i < len(llista):\n",
    "        if i == llista[i]:\n",
    "            count = count + 1\n",
    "        i = i + 1\n",
    "    return(count)\n",
    "\n",
    "print(coincidencies(nombres))\n",
    "print(coincidencies(nombres_sim))\n",
    "print(coincidencies(nombres_sim2))\n",
    "print(coincidencies(llista1))\n"
   ]
  },
  {
   "cell_type": "code",
   "execution_count": null,
   "id": "d97f42b1",
   "metadata": {},
   "outputs": [],
   "source": []
  }
 ],
 "metadata": {
  "kernelspec": {
   "display_name": "Python 3 (ipykernel)",
   "language": "python",
   "name": "python3"
  },
  "language_info": {
   "codemirror_mode": {
    "name": "ipython",
    "version": 3
   },
   "file_extension": ".py",
   "mimetype": "text/x-python",
   "name": "python",
   "nbconvert_exporter": "python",
   "pygments_lexer": "ipython3",
   "version": "3.9.13"
  },
  "nbTranslate": {
   "displayLangs": [
    "*"
   ],
   "hotkey": "alt-t",
   "langInMainMenu": true,
   "sourceLang": "en",
   "targetLang": "fr",
   "useGoogleTranslate": true
  }
 },
 "nbformat": 4,
 "nbformat_minor": 5
}
