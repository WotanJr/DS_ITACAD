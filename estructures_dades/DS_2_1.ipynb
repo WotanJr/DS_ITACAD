{
 "cells": [
  {
   "cell_type": "markdown",
   "id": "17c1e0ec",
   "metadata": {},
   "source": [
    "# Tasca1\n",
    "## Exercici 1\n",
    "Crea una llista que agrupi els mesos de l’any en trimestres (1T: gener, febrer i març; 2T: abril, maig, juny...), és a dir, una llista amb 4 llistes dins."
   ]
  },
  {
   "cell_type": "code",
   "execution_count": 1,
   "id": "8d1b0b48",
   "metadata": {},
   "outputs": [
    {
     "name": "stdout",
     "output_type": "stream",
     "text": [
      "['1T', '2T', '3T', '4T']\n"
     ]
    }
   ],
   "source": [
    "'''\n",
    "list = [[] for i in range(4)]\n",
    "print(list)\n",
    "for objects in list:\n",
    "    print(id(objects))   # Check each list has a different id\n",
    "'''\n",
    "\n",
    "llista = [\"1T\", \"2T\", \"3T\", \"4T\"]\n",
    "print(llista)"
   ]
  },
  {
   "cell_type": "code",
   "execution_count": 2,
   "id": "802c5c1f",
   "metadata": {},
   "outputs": [
    {
     "name": "stdout",
     "output_type": "stream",
     "text": [
      "[['gener', 'febrer', 'març'], ['abril', 'maig', 'juny'], ['juliol', 'agost', 'setembre'], ['octubre', 'novembre', 'desembre']]\n"
     ]
    }
   ],
   "source": [
    "llista[0] = [\"gener\",\"febrer\", \"març\"]\n",
    "llista[1] = [\"abril\",\"maig\", \"juny\"]\n",
    "llista[2] = [\"juliol\",\"agost\", \"setembre\"]\n",
    "llista[3] = [\"octubre\",\"novembre\", \"desembre\"]\n",
    "print(llista)"
   ]
  },
  {
   "cell_type": "markdown",
   "id": "941c29a1",
   "metadata": {},
   "source": [
    "## Exercici 2\n",
    "Crea un codi que et permeti accedir a:\n",
    "\n",
    "* El segon mes del primer trimestre.\n",
    "* Els mesos del primer trimestre.\n",
    "* Setembre i octubre."
   ]
  },
  {
   "cell_type": "code",
   "execution_count": 3,
   "id": "00fcfc4b",
   "metadata": {},
   "outputs": [
    {
     "name": "stdout",
     "output_type": "stream",
     "text": [
      "febrer\n",
      "['gener', 'febrer', 'març']\n",
      "setembre\n",
      "octubre\n"
     ]
    }
   ],
   "source": [
    "print(llista[0][1])\n",
    "print(llista[0])\n",
    "print(llista[2][2])\n",
    "print(llista[3][0])"
   ]
  },
  {
   "cell_type": "markdown",
   "id": "2be1cf12",
   "metadata": {},
   "source": [
    "## Exercici 3\n",
    "Crea una llista amb nombres desordenats i respon a les següents preguntes:\n",
    "\n",
    "Quants números hi ha?  \n",
    "Quantes vegades apareix el número 3.  \n",
    "Quantes vegades apareixen els nombres 3 i 4?  \n",
    "Quin és el número més gran?  \n",
    "Quins són els 3 números més petits?  \n",
    "Quin és el rang d’aquesta llista?"
   ]
  },
  {
   "cell_type": "code",
   "execution_count": 4,
   "id": "c6a17a17",
   "metadata": {},
   "outputs": [
    {
     "name": "stdout",
     "output_type": "stream",
     "text": [
      "La llista és: [6, 3, 35, 68, 4, 3, 18, 77, 77, 4, 4, 89]\n",
      "Hi han 12 nombres\n",
      "El 3 apareix 2 vegades\n",
      "El 3 apareix 2 vegades. El 4 apareix 3 vegades. En total 5 vegades\n",
      "El màxim és 89\n",
      "Els tres primers nombres són [3, 3, 4]\n",
      "El rang és 86\n"
     ]
    }
   ],
   "source": [
    "nombres  = [6, 3, 35, 68, 4, 3, 18, 77, 77, 4, 4, 89]\n",
    "\n",
    "print(\"La llista és:\", nombres)\n",
    "print(\"Hi han\", len(nombres), \"nombres\")\n",
    "print(\"El 3 apareix \" + str(nombres.count(3)) + \" vegades\")\n",
    "print(\"El 3 apareix \" + str(nombres.count(3)) + \" vegades. El 4 apareix \" + str(nombres.count(4)) + \" vegades. En total \" + str(nombres.count(3) + nombres.count(4)) + \" vegades\")\n",
    "print(\"El màxim és\", str(max(nombres)))\n",
    "print(\"Els tres primers nombres són \" + str(sorted(nombres)[:3]))\n",
    "print(\"El rang és \" + str(max(nombres)-min(nombres)))"
   ]
  },
  {
   "cell_type": "markdown",
   "id": "aafffb19",
   "metadata": {},
   "source": [
    "## Exercici 4\n",
    "Crea un diccionari de la següent forma i respon a les preguntes:\n",
    "\n",
    "compra = { \"Pomes\" : {\"Qty\": 5, \"€\": 0.42}, \"Peres\" : {\"Qty\": 3, \"€\": 0.66} }\n",
    "- Afegeix alguna fruita més\n",
    "- Quant han costat les peres en total?\n",
    "- Quantes fruites hem comprat en total?\n",
    "- Quina és la fruita més cara?"
   ]
  },
  {
   "cell_type": "code",
   "execution_count": 5,
   "id": "c736afe1",
   "metadata": {},
   "outputs": [
    {
     "name": "stdout",
     "output_type": "stream",
     "text": [
      "{'Pomes': {'Qty': 5, '€': 0.42}, 'Peres': {'Qty': 3, '€': 0.66}}\n",
      "{'Pomes': {'Qty': 5, '€': 0.42}, 'Peres': {'Qty': 3, '€': 0.66}, 'Maduixes': {'Qty': 99, '€': 0.17}}\n"
     ]
    }
   ],
   "source": [
    "compra = { \"Pomes\" : {\"Qty\": 5, \"€\": 0.42}, \"Peres\" : {\"Qty\": 3, \"€\": 0.66} }\n",
    "print(compra)\n",
    "compra[\"Maduixes\"] = {\"Qty\": 99, \"€\": 0.17}\n",
    "print(compra)"
   ]
  },
  {
   "cell_type": "code",
   "execution_count": 9,
   "id": "93542fda",
   "metadata": {},
   "outputs": [
    {
     "name": "stdout",
     "output_type": "stream",
     "text": [
      "Les 3 Peres han costat 1.98 €\n"
     ]
    }
   ],
   "source": [
    "def fruita_en_total(compra, fruita):\n",
    "    total = round(compra[fruita][\"Qty\"] * compra[fruita][\"€\"], 2)\n",
    "    return(total)\n",
    "\n",
    "fruita=\"Peres\"\n",
    "\n",
    "print(\"Les\", compra[\"Peres\"][\"Qty\"], fruita, \"han costat\", fruita_en_total(compra, fruita), \"€\")"
   ]
  },
  {
   "cell_type": "code",
   "execution_count": 7,
   "id": "e64c71de",
   "metadata": {
    "scrolled": true
   },
   "outputs": [
    {
     "name": "stdout",
     "output_type": "stream",
     "text": [
      "Hem comprat en total 107 fruites\n"
     ]
    }
   ],
   "source": [
    "def comptar_fruites(x):\n",
    "    count = 0\n",
    "    for id, info in x.items():\n",
    "        for k in info:\n",
    "            if k == \"Qty\":\n",
    "                count = count + info[k]\n",
    "    return(count)\n",
    "\n",
    "print(\"Hem comprat en total\", comptar_fruites(compra), \"fruites\")"
   ]
  },
  {
   "cell_type": "code",
   "execution_count": 8,
   "id": "4ae2dfd6",
   "metadata": {},
   "outputs": [
    {
     "name": "stdout",
     "output_type": "stream",
     "text": [
      "La fruita més cara són les Peres\n"
     ]
    }
   ],
   "source": [
    "def fruita_mes_cara(y):\n",
    "    max = 0\n",
    "    fruita = \"\"\n",
    "    for id, info in y.items():\n",
    "        for k in info:\n",
    "            if k == \"€\":\n",
    "                if info[k] > max:\n",
    "                    max = info[k]\n",
    "                    fruita = id\n",
    "    return(fruita)\n",
    "\n",
    "print(\"La fruita més cara són les\", fruita_mes_cara(compra))"
   ]
  }
 ],
 "metadata": {
  "kernelspec": {
   "display_name": "Python 3 (ipykernel)",
   "language": "python",
   "name": "python3"
  },
  "language_info": {
   "codemirror_mode": {
    "name": "ipython",
    "version": 3
   },
   "file_extension": ".py",
   "mimetype": "text/x-python",
   "name": "python",
   "nbconvert_exporter": "python",
   "pygments_lexer": "ipython3",
   "version": "3.9.13"
  },
  "nbTranslate": {
   "displayLangs": [
    "*"
   ],
   "hotkey": "alt-t",
   "langInMainMenu": true,
   "sourceLang": "en",
   "targetLang": "fr",
   "useGoogleTranslate": true
  }
 },
 "nbformat": 4,
 "nbformat_minor": 5
}
