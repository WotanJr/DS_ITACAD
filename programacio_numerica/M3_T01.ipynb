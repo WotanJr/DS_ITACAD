{
 "cells": [
  {
   "cell_type": "markdown",
   "id": "22ad28b7",
   "metadata": {},
   "source": [
    "# Tasca M3 T01\n",
    "\n",
    "Descripció:\n",
    "Exercicis de programació numèrica.\n",
    "\n",
    "\n",
    "## Exercici 1\n",
    "Crea una funció que donat un Array d’una dimensió, et faci un resum estadístic bàsic de les dades. Si detecta que l’array té més d’una dimensió, ha de mostrar un missatge d’error."
   ]
  },
  {
   "cell_type": "code",
   "execution_count": 17,
   "id": "f2a09cdc",
   "metadata": {},
   "outputs": [
    {
     "name": "stdout",
     "output_type": "stream",
     "text": [
      "Array : [22  7 46 99 71 35 70] amb dimensio  1\n",
      "Array : [[[1 2 3]]] amb dimensio  3\n",
      "\n",
      "Per l'array :  [22  7 46 99 71 35 70]\n",
      "El nombre d'elements es:  7\n",
      "La suma dels elements es:  350\n",
      "El minim es:  7\n",
      "El maxim es:  99\n",
      "El rang es:  92\n",
      "La mitjana es:  50.0\n",
      "Percentil 25%:  28.5\n",
      "Percentil 50%:  46.0\n",
      "Percentil 75%:  70.5\n",
      "La mediana es:  46.0\n",
      "La desviacio estandar es:  29.558658388267315\n",
      "I la variança es:  873.7142857142857\n"
     ]
    },
    {
     "ename": "ValueError",
     "evalue": "(\"Error, la dimensio de l'array es\", 3, \"pero hauria d'esser 1\")",
     "output_type": "error",
     "traceback": [
      "\u001b[1;31m---------------------------------------------------------------------------\u001b[0m",
      "\u001b[1;31mValueError\u001b[0m                                Traceback (most recent call last)",
      "\u001b[1;32m~\\AppData\\Local\\Temp\\ipykernel_16680\\2255419871.py\u001b[0m in \u001b[0;36m<module>\u001b[1;34m\u001b[0m\n\u001b[0;32m     30\u001b[0m \u001b[1;33m\u001b[0m\u001b[0m\n\u001b[0;32m     31\u001b[0m \u001b[0marray_est\u001b[0m\u001b[1;33m(\u001b[0m\u001b[0marray_ex1_dim1\u001b[0m\u001b[1;33m)\u001b[0m\u001b[1;33m\u001b[0m\u001b[1;33m\u001b[0m\u001b[0m\n\u001b[1;32m---> 32\u001b[1;33m \u001b[0marray_est\u001b[0m\u001b[1;33m(\u001b[0m\u001b[0marray_ex1_dimx\u001b[0m\u001b[1;33m)\u001b[0m\u001b[1;33m\u001b[0m\u001b[1;33m\u001b[0m\u001b[0m\n\u001b[0m",
      "\u001b[1;32m~\\AppData\\Local\\Temp\\ipykernel_16680\\2255419871.py\u001b[0m in \u001b[0;36marray_est\u001b[1;34m(array)\u001b[0m\n\u001b[0;32m     13\u001b[0m \u001b[1;32mdef\u001b[0m \u001b[0marray_est\u001b[0m\u001b[1;33m(\u001b[0m\u001b[0marray\u001b[0m\u001b[1;33m)\u001b[0m\u001b[1;33m:\u001b[0m\u001b[1;33m\u001b[0m\u001b[1;33m\u001b[0m\u001b[0m\n\u001b[0;32m     14\u001b[0m     \u001b[1;32mif\u001b[0m \u001b[0marray\u001b[0m\u001b[1;33m.\u001b[0m\u001b[0mndim\u001b[0m \u001b[1;33m!=\u001b[0m \u001b[1;36m1\u001b[0m\u001b[1;33m:\u001b[0m\u001b[1;33m\u001b[0m\u001b[1;33m\u001b[0m\u001b[0m\n\u001b[1;32m---> 15\u001b[1;33m         \u001b[1;32mraise\u001b[0m \u001b[0mValueError\u001b[0m\u001b[1;33m(\u001b[0m\u001b[1;34m\"Error, la dimensio de l'array es\"\u001b[0m\u001b[1;33m,\u001b[0m \u001b[0marray\u001b[0m\u001b[1;33m.\u001b[0m\u001b[0mndim\u001b[0m\u001b[1;33m,\u001b[0m \u001b[1;34m\"pero hauria d'esser 1\"\u001b[0m\u001b[1;33m)\u001b[0m\u001b[1;33m\u001b[0m\u001b[1;33m\u001b[0m\u001b[0m\n\u001b[0m\u001b[0;32m     16\u001b[0m     \u001b[1;32melse\u001b[0m\u001b[1;33m:\u001b[0m\u001b[1;33m\u001b[0m\u001b[1;33m\u001b[0m\u001b[0m\n\u001b[0;32m     17\u001b[0m         \u001b[0mprint\u001b[0m\u001b[1;33m(\u001b[0m\u001b[1;34m\"\\nPer l'array : \"\u001b[0m\u001b[1;33m,\u001b[0m \u001b[0marray\u001b[0m\u001b[1;33m)\u001b[0m\u001b[1;33m\u001b[0m\u001b[1;33m\u001b[0m\u001b[0m\n",
      "\u001b[1;31mValueError\u001b[0m: (\"Error, la dimensio de l'array es\", 3, \"pero hauria d'esser 1\")"
     ]
    }
   ],
   "source": [
    "import numpy as np\n",
    "import random\n",
    "\n",
    "random_num = random.randint(1, 9)\n",
    "random_dim = random.randint(2, 9)\n",
    "\n",
    "array_ex1_dim1 = np.array(np.random.randint(100, size=(random_num)), ndmin = 1)\n",
    "print(\"Array :\", array_ex1_dim1, \"amb dimensio \", array_ex1_dim1.ndim)\n",
    "\n",
    "array_ex1_dimx = np.array([1,2,3], ndmin = random_dim)\n",
    "print(\"Array :\", array_ex1_dimx, \"amb dimensio \", array_ex1_dimx.ndim)\n",
    "\n",
    "def array_est(array):\n",
    "    if array.ndim != 1:\n",
    "        raise ValueError(\"Error, la dimensio de l'array es\", array.ndim, \"pero hauria d'esser 1\")\n",
    "    else:\n",
    "        print(\"\\nPer l'array : \", array)\n",
    "        print(\"El nombre d'elements es: \", len(array))\n",
    "        print(\"La suma dels elements es: \", array.sum())\n",
    "        print(\"El minim es: \", array.min())\n",
    "        print(\"El maxim es: \", array.max())\n",
    "        print(\"El rang es: \", array.max() - array.min())\n",
    "        print(\"La mitjana es: \", array.mean())\n",
    "        print(\"Percentil 25%: \", np.percentile(array, 25))\n",
    "        print(\"Percentil 50%: \", np.percentile(array, 50))\n",
    "        print(\"Percentil 75%: \", np.percentile(array, 75))\n",
    "        print(\"La mediana es: \", np.median(array))\n",
    "        print(\"La desviacio estandar es: \", array.std())\n",
    "        print(\"I la variança es: \", array.var())\n",
    "\n",
    "array_est(array_ex1_dim1)\n",
    "array_est(array_ex1_dimx)"
   ]
  },
  {
   "cell_type": "markdown",
   "id": "05f64102",
   "metadata": {},
   "source": [
    "## Exercici 2\n",
    "Crea una funció que et generi un quadrat NxN de nombres aleatoris entre el 0 i el 100."
   ]
  },
  {
   "cell_type": "code",
   "execution_count": 19,
   "id": "f5895371",
   "metadata": {},
   "outputs": [
    {
     "name": "stdout",
     "output_type": "stream",
     "text": [
      "[[25 29 66 52 81]\n",
      " [40 37 23 79 50]\n",
      " [48 46 64 23 44]\n",
      " [72 47 61 28 23]\n",
      " [59  7 76 48 96]]\n"
     ]
    }
   ],
   "source": [
    "def quadrat():\n",
    "    random_N = random.randint(1, 9)\n",
    "    arr_ex2 = np.random.randint(100, size=(random_N, random_N))\n",
    "    return(arr_ex2)\n",
    "\n",
    "print(quadrat())"
   ]
  },
  {
   "cell_type": "markdown",
   "id": "22d6b5ba",
   "metadata": {},
   "source": [
    "## Exercici 3\n",
    "Crea una funció que donada una taula de dues dimensions (NxM), et calculi els totals per fila i els totals per columna."
   ]
  },
  {
   "cell_type": "code",
   "execution_count": 20,
   "id": "90043f49",
   "metadata": {},
   "outputs": [
    {
     "name": "stdout",
     "output_type": "stream",
     "text": [
      "[[10 16 87 68 25 24 23]\n",
      " [86 26  0 44  2 86 62]\n",
      " [90 37 26 29 85 81 53]\n",
      " [75 62 18 54 52 41 96]\n",
      " [24 80 77 55 30  9 30]\n",
      " [85 40 90 33  8 61 10]]\n",
      "Suma per columna :  [370 261 298 283 202 302 274]\n",
      "Suma per fila :\n",
      " [[253]\n",
      " [306]\n",
      " [401]\n",
      " [398]\n",
      " [305]\n",
      " [327]]\n"
     ]
    }
   ],
   "source": [
    "arr_ex3 = np.random.randint(100, size=(random.randint(1, 9), random.randint(1, 9)))\n",
    "print(arr_ex3)\n",
    "\n",
    "def totals(arr):\n",
    "    print(\"Suma per columna : \", np.sum(arr, axis=0))\n",
    "    print(\"Suma per fila :\\n\", np.sum(arr, axis=1, keepdims = True))\n",
    "\n",
    "totals(arr_ex3)"
   ]
  },
  {
   "cell_type": "markdown",
   "id": "b1568e3a",
   "metadata": {},
   "source": [
    "## Exercici 4\n",
    "Implementa manualment una funció que calculi el coeficient de correlació. Informa-te'n sobre els seus usos i interpretació."
   ]
  },
  {
   "cell_type": "code",
   "execution_count": 23,
   "id": "3d01eb3e",
   "metadata": {},
   "outputs": [
    {
     "name": "stdout",
     "output_type": "stream",
     "text": [
      "Alçades (m):  [1.98115891 1.66956304 1.99795111 1.95748463 1.65533171 1.56636196\n",
      " 1.96203161 1.78705564 1.58284889 1.85322552]\n",
      "Pesos (kg):  [93 54 61 91 54 92 54 82 60 73]\n",
      "[[1.         0.17406879]\n",
      " [0.17406879 1.        ]]\n"
     ]
    }
   ],
   "source": [
    "# com a exemple ens inventem unes alçades i uns pesos.\n",
    "# Les alçades com a float entre 1.5 i 2. Els pesos com a integer entre 50 i 100.\n",
    "\n",
    "heights = np.random.uniform(1.5, 2, 10)\n",
    "print(\"Alçades (m): \", heights)\n",
    "weights = np.random.randint(50, 100, 10)\n",
    "print(\"Pesos (kg): \", weights)\n",
    "\n",
    "# Veurem que la correlacio sempre és dolenta ja que hem creat les dades aleatoriament.\n",
    "# Els coeficients de correlacio es miren a la diagonal secundaria de la matriu resultant. \n",
    "\n",
    "def corr_coef(arr1, arr2):\n",
    "    return(np.corrcoef(arr1, arr2))\n",
    "\n",
    "print(corr_coef(heights, weights))"
   ]
  },
  {
   "cell_type": "code",
   "execution_count": 24,
   "id": "8a820c58",
   "metadata": {},
   "outputs": [
    {
     "name": "stdout",
     "output_type": "stream",
     "text": [
      "Alçades (m):  [1.94822091 1.72789935 1.61716088 1.74382712 1.97290232 1.98051525\n",
      " 1.76104382 1.80029867 1.83228995 1.73094154]\n",
      "Pesos (kg):  [87.66994103 77.75547054 72.77223973 78.47222052 88.78060437 89.12318619\n",
      " 79.24697168 81.01344015 82.45304771 77.8923693 ]\n",
      "[[1. 1.]\n",
      " [1. 1.]]\n"
     ]
    }
   ],
   "source": [
    "heights_perfect = np.random.uniform(1.5, 2, 10)\n",
    "print(\"Alçades (m): \", heights_perfect)\n",
    "weights_perfect = np.array(heights_perfect * 45)\n",
    "print(\"Pesos (kg): \", weights_perfect)\n",
    "\n",
    "# Ara hem forçat una correlacio molt bona, ja que hem posat \n",
    "# els pesos directament en funcio de les alçades\n",
    "\n",
    "print(corr_coef(heights_perfect, weights_perfect))"
   ]
  },
  {
   "cell_type": "markdown",
   "id": "e79082a6",
   "metadata": {},
   "source": [
    "## Resum:\n",
    "\n",
    "El coeficient de correlacio mesura l'associacio LINEAL entre variables. Es troba entre -1 i 1. S'interpreta:  \n",
    "\n",
    "+1 -> Correlacio completa positiva  \n",
    "+0.8 -> Correlacio forta positiva  \n",
    "+0.6 -> Correlacio moderada positiva  \n",
    "0 -> Cap correlacio  \n",
    "-0.6 -> Correlacio moderada negativa  \n",
    "-0.8 -> Correlacio forta negativa  \n",
    "-1 -> Correlacio completa negativa  \n",
    "\n",
    "![imatge](https://files.realpython.com/media/py-corr-1.d13ed60a9b91.png)  \n",
    "\n",
    "El resultat del calcul es una matriu de dos per dos.  \n",
    "\n",
    "Els valors a la diagonal principal son iguals a 1, ja que es la correlacio entre x i x i entre y i y, que son sempre iguals.\n",
    "\n",
    "Els valors que s'han de mirar son els de la diagonal secundaria, que son iguals i representen el 'Pearson correlation coefficient' per x i y."
   ]
  },
  {
   "cell_type": "markdown",
   "id": "9b8206f3",
   "metadata": {},
   "source": [
    "## Bibliografia:\n",
    "\n",
    "- [Stackabuse](https://stackabuse.com/calculating-pearson-correlation-coefficient-in-python-with-numpy/)\n",
    "- [realpython](https://realpython.com/numpy-scipy-pandas-correlation-python/)"
   ]
  },
  {
   "cell_type": "code",
   "execution_count": null,
   "id": "694c170e",
   "metadata": {},
   "outputs": [],
   "source": []
  }
 ],
 "metadata": {
  "kernelspec": {
   "display_name": "Python 3 (ipykernel)",
   "language": "python",
   "name": "python3"
  },
  "language_info": {
   "codemirror_mode": {
    "name": "ipython",
    "version": 3
   },
   "file_extension": ".py",
   "mimetype": "text/x-python",
   "name": "python",
   "nbconvert_exporter": "python",
   "pygments_lexer": "ipython3",
   "version": "3.9.13"
  },
  "nbTranslate": {
   "displayLangs": [
    "*"
   ],
   "hotkey": "alt-t",
   "langInMainMenu": true,
   "sourceLang": "en",
   "targetLang": "fr",
   "useGoogleTranslate": true
  }
 },
 "nbformat": 4,
 "nbformat_minor": 5
}
